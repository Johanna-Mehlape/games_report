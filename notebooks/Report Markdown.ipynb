{
 "cells": [
  {
   "cell_type": "markdown",
   "metadata": {},
   "source": [
    "# Game Research Report\n",
    "\n",
    "### This report was prepared for Umuzi Coding Department NCIT (Sytems Development)\n",
    "\n",
    "#### Prepared by: Johanna Mehlape\n",
    "\n",
    "\n"
   ]
  },
  {
   "cell_type": "markdown",
   "metadata": {},
   "source": [
    "# Contents Page \n",
    "\n",
    "\n",
    "1. Executive Summary ____________________________ Page 1\n",
    "2. \n",
    "\n"
   ]
  },
  {
   "cell_type": "markdown",
   "metadata": {},
   "source": [
    "### Executive Summary\n",
    "\n",
    "\n",
    "This research study was conducted within the Umuzi environment on the recruits, with the aim of finding out about different types of games as well as finding out what makes a successful game.\n",
    "\n",
    "\n",
    "The initial intent or expected outcome was to have both male and females playing but due to the availability of the players only males showed an interest in participaitng in our study, which one can say there may be a biased outlook on online games and which market should be targeted. \n",
    "\n",
    "\n",
    "The candidates that took part were selected randomly and participated freely throughout the whole success of the study. \n",
    "\n",
    "The methods that were used included: \n",
    "\n",
    "1. finding willing participants to play & interviews\n",
    "2. observations\n",
    "3. surveys\n",
    "4. online research.\n",
    "\n",
    "N.b We had to observe the behavior of candidates by allowing them to choose and play the following games uninterrupted for 10 minutes\n",
    "\n",
    "* https://www.helicoptergame.net/\n",
    "* http://www.addictinggames.com/action-games/vex-game.jsp\n",
    "* http://slither.io/\n",
    "* http://www.decisionproblem.com/paperclips/index2.html\n",
    "\n",
    "The interviews happened in person, the survey link was shared via email and a number of participants "
   ]
  },
  {
   "cell_type": "code",
   "execution_count": null,
   "metadata": {},
   "outputs": [],
   "source": []
  }
 ],
 "metadata": {
  "kernelspec": {
   "display_name": "Python 3",
   "language": "python",
   "name": "python3"
  },
  "language_info": {
   "codemirror_mode": {
    "name": "ipython",
    "version": 3
   },
   "file_extension": ".py",
   "mimetype": "text/x-python",
   "name": "python",
   "nbconvert_exporter": "python",
   "pygments_lexer": "ipython3",
   "version": "3.6.7"
  }
 },
 "nbformat": 4,
 "nbformat_minor": 2
}
