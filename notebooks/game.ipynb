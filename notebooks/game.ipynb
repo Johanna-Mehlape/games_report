{
 "cells": [
  {
   "cell_type": "markdown",
   "metadata": {},
   "source": [
    "# Game Research Report\n",
    "\n",
    "### This report was prepared for Umuzi Coding Department NCIT (Sytems Development)\n",
    "\n",
    "#### Prepared by: Johanna Mehlape"
   ]
  },
  {
   "cell_type": "markdown",
   "metadata": {},
   "source": [
    "### Executive Summary\n",
    "\n",
    "\n",
    "This research study was conducted within the Umuzi environment on the recruits, with the aim of finding out about different types of games as well as finding out what makes a successful game.\n",
    "\n",
    "\n",
    "The initial intent or expected outcome was to have both male and females playing but due to the availability of the players only males showed an interest in participaitng in our study, which one can say there may be a biased outlook on online games and which market should be targeted. \n",
    "\n",
    "\n",
    "The candidates that took part were selected randomly and participated freely throughout the whole success of the study. \n",
    "\n",
    "The methods that were used included: \n",
    "\n",
    "1. finding willing participants to play & interviews\n",
    "2. observations\n",
    "3. surveys\n",
    "4. online research.\n",
    "\n",
    "N.b We had to observe the behavior of candidates by allowing them to choose and play the following games uninterrupted for 10 minutes\n",
    "\n",
    "* https://www.helicoptergame.net/\n",
    "* http://www.addictinggames.com/action-games/vex-game.jsp\n",
    "* http://slither.io/\n",
    "* http://www.decisionproblem.com/paperclips/index2.html\n",
    "\n",
    "The interviews happened in person, the survey link was shared via email and a number of participants "
   ]
  },
  {
   "cell_type": "markdown",
   "metadata": {},
   "source": [
    "We imported the data to a pandas data frame and visualised it with matplotlib. "
   ]
  },
  {
   "cell_type": "code",
   "execution_count": 3,
   "metadata": {},
   "outputs": [],
   "source": [
    "import numpy as np\n",
    "import pandas as pd\n",
    "import matplotlib.pyplot as plt\n",
    "from scipy import stats\n"
   ]
  },
  {
   "cell_type": "code",
   "execution_count": 4,
   "metadata": {},
   "outputs": [],
   "source": [
    "#game survey responses on video game \n",
    "\n",
    "game = pd.read_csv(\"games_survey.csv\")"
   ]
  },
  {
   "cell_type": "markdown",
   "metadata": {},
   "source": [
    "Our survey data look like this:"
   ]
  },
  {
   "cell_type": "code",
   "execution_count": 11,
   "metadata": {
    "scrolled": true
   },
   "outputs": [
    {
     "data": {
      "text/html": [
       "<div>\n",
       "<style scoped>\n",
       "    .dataframe tbody tr th:only-of-type {\n",
       "        vertical-align: middle;\n",
       "    }\n",
       "\n",
       "    .dataframe tbody tr th {\n",
       "        vertical-align: top;\n",
       "    }\n",
       "\n",
       "    .dataframe thead th {\n",
       "        text-align: right;\n",
       "    }\n",
       "</style>\n",
       "<table border=\"1\" class=\"dataframe\">\n",
       "  <thead>\n",
       "    <tr style=\"text-align: right;\">\n",
       "      <th></th>\n",
       "      <th>Timestamp</th>\n",
       "      <th>General Info about yourself</th>\n",
       "      <th>Please select the gender</th>\n",
       "      <th>Question 1</th>\n",
       "      <th>Question 2</th>\n",
       "      <th>Question 3</th>\n",
       "      <th>Question 4</th>\n",
       "      <th>Question 5</th>\n",
       "      <th>Questions 6</th>\n",
       "      <th>Question 7</th>\n",
       "      <th>Question 8</th>\n",
       "      <th>Question 9</th>\n",
       "      <th>Question 10</th>\n",
       "    </tr>\n",
       "  </thead>\n",
       "  <tbody>\n",
       "    <tr>\n",
       "      <th>0</th>\n",
       "      <td>2019/01/23 4:06:15 PM GMT+2</td>\n",
       "      <td>Madi</td>\n",
       "      <td>Male</td>\n",
       "      <td>Slither</td>\n",
       "      <td>Yes</td>\n",
       "      <td>There were no instructions.</td>\n",
       "      <td>Easy</td>\n",
       "      <td>No</td>\n",
       "      <td>20 something points</td>\n",
       "      <td>Yes</td>\n",
       "      <td>Grasped it instantly</td>\n",
       "      <td>Include instructions</td>\n",
       "      <td>Yes</td>\n",
       "    </tr>\n",
       "    <tr>\n",
       "      <th>1</th>\n",
       "      <td>2019/01/23 4:25:26 PM GMT+2</td>\n",
       "      <td>Mihlali Nelana</td>\n",
       "      <td>Male</td>\n",
       "      <td>Helicopter Game</td>\n",
       "      <td>No</td>\n",
       "      <td>No</td>\n",
       "      <td>Difficult</td>\n",
       "      <td>No</td>\n",
       "      <td>120</td>\n",
       "      <td>Yes</td>\n",
       "      <td>Never grasped the controls</td>\n",
       "      <td>Slow down the pace</td>\n",
       "      <td>No</td>\n",
       "    </tr>\n",
       "    <tr>\n",
       "      <th>2</th>\n",
       "      <td>2019/01/24 2:03:59 PM GMT+2</td>\n",
       "      <td>Nhla Gumede</td>\n",
       "      <td>Male</td>\n",
       "      <td>Slither</td>\n",
       "      <td>No</td>\n",
       "      <td>no</td>\n",
       "      <td>Easy</td>\n",
       "      <td>yes.  No</td>\n",
       "      <td>stage 1</td>\n",
       "      <td>Yes</td>\n",
       "      <td>Grasped it instantly</td>\n",
       "      <td>instructions before the game starts.</td>\n",
       "      <td>No</td>\n",
       "    </tr>\n",
       "    <tr>\n",
       "      <th>3</th>\n",
       "      <td>2019/01/24 2:19:52 PM GMT+2</td>\n",
       "      <td>NaN</td>\n",
       "      <td>Male</td>\n",
       "      <td>Helicopter Game</td>\n",
       "      <td>Yes</td>\n",
       "      <td>some of the games</td>\n",
       "      <td>Moderate</td>\n",
       "      <td>no</td>\n",
       "      <td>357</td>\n",
       "      <td>Yes</td>\n",
       "      <td>2 - 4 minutes into the game</td>\n",
       "      <td>controls</td>\n",
       "      <td>Yes</td>\n",
       "    </tr>\n",
       "    <tr>\n",
       "      <th>4</th>\n",
       "      <td>2019/01/24 2:28:07 PM GMT+2</td>\n",
       "      <td>Bonga Gininda</td>\n",
       "      <td>Male</td>\n",
       "      <td>Paperclips</td>\n",
       "      <td>No</td>\n",
       "      <td>NaN</td>\n",
       "      <td>Difficult</td>\n",
       "      <td>No</td>\n",
       "      <td>I couldnt tell</td>\n",
       "      <td>Yes</td>\n",
       "      <td>Never grasped the controls</td>\n",
       "      <td>Give out instructions on how the games work</td>\n",
       "      <td>No</td>\n",
       "    </tr>\n",
       "  </tbody>\n",
       "</table>\n",
       "</div>"
      ],
      "text/plain": [
       "                     Timestamp General Info about yourself  \\\n",
       "0  2019/01/23 4:06:15 PM GMT+2                        Madi   \n",
       "1  2019/01/23 4:25:26 PM GMT+2             Mihlali Nelana    \n",
       "2  2019/01/24 2:03:59 PM GMT+2                 Nhla Gumede   \n",
       "3  2019/01/24 2:19:52 PM GMT+2                         NaN   \n",
       "4  2019/01/24 2:28:07 PM GMT+2               Bonga Gininda   \n",
       "\n",
       "  Please select the gender       Question 1 Question 2  \\\n",
       "0                     Male          Slither        Yes   \n",
       "1                     Male  Helicopter Game         No   \n",
       "2                     Male          Slither         No   \n",
       "3                     Male  Helicopter Game        Yes   \n",
       "4                     Male       Paperclips         No   \n",
       "\n",
       "                    Question 3 Question 4 Question 5          Questions 6  \\\n",
       "0  There were no instructions.       Easy         No  20 something points   \n",
       "1                           No  Difficult         No                  120   \n",
       "2                           no       Easy   yes.  No              stage 1   \n",
       "3            some of the games   Moderate         no                  357   \n",
       "4                          NaN  Difficult         No       I couldnt tell   \n",
       "\n",
       "  Question 7                   Question 8  \\\n",
       "0        Yes         Grasped it instantly   \n",
       "1        Yes   Never grasped the controls   \n",
       "2        Yes         Grasped it instantly   \n",
       "3        Yes  2 - 4 minutes into the game   \n",
       "4        Yes   Never grasped the controls   \n",
       "\n",
       "                                    Question 9 Question 10  \n",
       "0                         Include instructions         Yes  \n",
       "1                          Slow down the pace           No  \n",
       "2         instructions before the game starts.          No  \n",
       "3                                     controls         Yes  \n",
       "4  Give out instructions on how the games work          No  "
      ]
     },
     "execution_count": 11,
     "metadata": {},
     "output_type": "execute_result"
    }
   ],
   "source": [
    "game.head()"
   ]
  },
  {
   "cell_type": "code",
   "execution_count": 12,
   "metadata": {
    "scrolled": true
   },
   "outputs": [
    {
     "data": {
      "text/html": [
       "<div>\n",
       "<style scoped>\n",
       "    .dataframe tbody tr th:only-of-type {\n",
       "        vertical-align: middle;\n",
       "    }\n",
       "\n",
       "    .dataframe tbody tr th {\n",
       "        vertical-align: top;\n",
       "    }\n",
       "\n",
       "    .dataframe thead th {\n",
       "        text-align: right;\n",
       "    }\n",
       "</style>\n",
       "<table border=\"1\" class=\"dataframe\">\n",
       "  <thead>\n",
       "    <tr style=\"text-align: right;\">\n",
       "      <th></th>\n",
       "      <th>Timestamp</th>\n",
       "      <th>General Info about yourself</th>\n",
       "      <th>Please select the gender</th>\n",
       "      <th>Question 1</th>\n",
       "      <th>Question 2</th>\n",
       "      <th>Question 3</th>\n",
       "      <th>Question 4</th>\n",
       "      <th>Question 5</th>\n",
       "      <th>Questions 6</th>\n",
       "      <th>Question 7</th>\n",
       "      <th>Question 8</th>\n",
       "      <th>Question 9</th>\n",
       "      <th>Question 10</th>\n",
       "    </tr>\n",
       "  </thead>\n",
       "  <tbody>\n",
       "    <tr>\n",
       "      <th>0</th>\n",
       "      <td>2019/01/23 4:06:15 PM GMT+2</td>\n",
       "      <td>Madi</td>\n",
       "      <td>Male</td>\n",
       "      <td>Slither</td>\n",
       "      <td>Yes</td>\n",
       "      <td>There were no instructions.</td>\n",
       "      <td>Easy</td>\n",
       "      <td>No</td>\n",
       "      <td>20 something points</td>\n",
       "      <td>Yes</td>\n",
       "      <td>Grasped it instantly</td>\n",
       "      <td>Include instructions</td>\n",
       "      <td>Yes</td>\n",
       "    </tr>\n",
       "    <tr>\n",
       "      <th>1</th>\n",
       "      <td>2019/01/23 4:25:26 PM GMT+2</td>\n",
       "      <td>Mihlali Nelana</td>\n",
       "      <td>Male</td>\n",
       "      <td>Helicopter Game</td>\n",
       "      <td>No</td>\n",
       "      <td>No</td>\n",
       "      <td>Difficult</td>\n",
       "      <td>No</td>\n",
       "      <td>120</td>\n",
       "      <td>Yes</td>\n",
       "      <td>Never grasped the controls</td>\n",
       "      <td>Slow down the pace</td>\n",
       "      <td>No</td>\n",
       "    </tr>\n",
       "    <tr>\n",
       "      <th>2</th>\n",
       "      <td>2019/01/24 2:03:59 PM GMT+2</td>\n",
       "      <td>Nhla Gumede</td>\n",
       "      <td>Male</td>\n",
       "      <td>Slither</td>\n",
       "      <td>No</td>\n",
       "      <td>no</td>\n",
       "      <td>Easy</td>\n",
       "      <td>yes.  No</td>\n",
       "      <td>stage 1</td>\n",
       "      <td>Yes</td>\n",
       "      <td>Grasped it instantly</td>\n",
       "      <td>instructions before the game starts.</td>\n",
       "      <td>No</td>\n",
       "    </tr>\n",
       "    <tr>\n",
       "      <th>3</th>\n",
       "      <td>2019/01/24 2:19:52 PM GMT+2</td>\n",
       "      <td>NaN</td>\n",
       "      <td>Male</td>\n",
       "      <td>Helicopter Game</td>\n",
       "      <td>Yes</td>\n",
       "      <td>some of the games</td>\n",
       "      <td>Moderate</td>\n",
       "      <td>no</td>\n",
       "      <td>357</td>\n",
       "      <td>Yes</td>\n",
       "      <td>2 - 4 minutes into the game</td>\n",
       "      <td>controls</td>\n",
       "      <td>Yes</td>\n",
       "    </tr>\n",
       "    <tr>\n",
       "      <th>4</th>\n",
       "      <td>2019/01/24 2:28:07 PM GMT+2</td>\n",
       "      <td>Bonga Gininda</td>\n",
       "      <td>Male</td>\n",
       "      <td>Paperclips</td>\n",
       "      <td>No</td>\n",
       "      <td>NaN</td>\n",
       "      <td>Difficult</td>\n",
       "      <td>No</td>\n",
       "      <td>I couldnt tell</td>\n",
       "      <td>Yes</td>\n",
       "      <td>Never grasped the controls</td>\n",
       "      <td>Give out instructions on how the games work</td>\n",
       "      <td>No</td>\n",
       "    </tr>\n",
       "    <tr>\n",
       "      <th>5</th>\n",
       "      <td>2019/01/24 4:14:49 PM GMT+2</td>\n",
       "      <td>NaN</td>\n",
       "      <td>Male</td>\n",
       "      <td>Paperclips</td>\n",
       "      <td>No</td>\n",
       "      <td>NaN</td>\n",
       "      <td>Difficult</td>\n",
       "      <td>No</td>\n",
       "      <td>I have no idea</td>\n",
       "      <td>Yes</td>\n",
       "      <td>Never grasped the controls</td>\n",
       "      <td>The entire game</td>\n",
       "      <td>No</td>\n",
       "    </tr>\n",
       "    <tr>\n",
       "      <th>6</th>\n",
       "      <td>2019/01/25 1:32:11 PM GMT+2</td>\n",
       "      <td>NaN</td>\n",
       "      <td>Male</td>\n",
       "      <td>Slither</td>\n",
       "      <td>No</td>\n",
       "      <td>no</td>\n",
       "      <td>Easy</td>\n",
       "      <td>no</td>\n",
       "      <td>I didnt check</td>\n",
       "      <td>Yes</td>\n",
       "      <td>2 - 4 minutes into the game</td>\n",
       "      <td>better instructions</td>\n",
       "      <td>No</td>\n",
       "    </tr>\n",
       "  </tbody>\n",
       "</table>\n",
       "</div>"
      ],
      "text/plain": [
       "                     Timestamp General Info about yourself  \\\n",
       "0  2019/01/23 4:06:15 PM GMT+2                        Madi   \n",
       "1  2019/01/23 4:25:26 PM GMT+2             Mihlali Nelana    \n",
       "2  2019/01/24 2:03:59 PM GMT+2                 Nhla Gumede   \n",
       "3  2019/01/24 2:19:52 PM GMT+2                         NaN   \n",
       "4  2019/01/24 2:28:07 PM GMT+2               Bonga Gininda   \n",
       "5  2019/01/24 4:14:49 PM GMT+2                         NaN   \n",
       "6  2019/01/25 1:32:11 PM GMT+2                         NaN   \n",
       "\n",
       "  Please select the gender       Question 1 Question 2  \\\n",
       "0                     Male          Slither        Yes   \n",
       "1                     Male  Helicopter Game         No   \n",
       "2                     Male          Slither         No   \n",
       "3                     Male  Helicopter Game        Yes   \n",
       "4                     Male       Paperclips         No   \n",
       "5                     Male       Paperclips         No   \n",
       "6                     Male          Slither         No   \n",
       "\n",
       "                    Question 3 Question 4 Question 5          Questions 6  \\\n",
       "0  There were no instructions.       Easy         No  20 something points   \n",
       "1                           No  Difficult         No                  120   \n",
       "2                           no       Easy   yes.  No              stage 1   \n",
       "3            some of the games   Moderate         no                  357   \n",
       "4                          NaN  Difficult         No       I couldnt tell   \n",
       "5                          NaN  Difficult        No        I have no idea   \n",
       "6                           no       Easy         no        I didnt check   \n",
       "\n",
       "  Question 7                   Question 8  \\\n",
       "0        Yes         Grasped it instantly   \n",
       "1        Yes   Never grasped the controls   \n",
       "2        Yes         Grasped it instantly   \n",
       "3        Yes  2 - 4 minutes into the game   \n",
       "4        Yes   Never grasped the controls   \n",
       "5        Yes   Never grasped the controls   \n",
       "6        Yes  2 - 4 minutes into the game   \n",
       "\n",
       "                                    Question 9 Question 10  \n",
       "0                         Include instructions         Yes  \n",
       "1                          Slow down the pace           No  \n",
       "2         instructions before the game starts.          No  \n",
       "3                                     controls         Yes  \n",
       "4  Give out instructions on how the games work          No  \n",
       "5                              The entire game          No  \n",
       "6                          better instructions          No  "
      ]
     },
     "execution_count": 12,
     "metadata": {},
     "output_type": "execute_result"
    }
   ],
   "source": [
    "game.tail(7)"
   ]
  },
  {
   "cell_type": "code",
   "execution_count": 13,
   "metadata": {},
   "outputs": [
    {
     "data": {
      "text/plain": [
       "7"
      ]
     },
     "execution_count": 13,
     "metadata": {},
     "output_type": "execute_result"
    }
   ],
   "source": [
    "len(game)"
   ]
  },
  {
   "cell_type": "code",
   "execution_count": 14,
   "metadata": {},
   "outputs": [
    {
     "data": {
      "text/plain": [
       "Timestamp                      object\n",
       "General Info about yourself    object\n",
       "Please select the gender       object\n",
       "Question 1                     object\n",
       "Question 2                     object\n",
       "Question 3                     object\n",
       "Question 4                     object\n",
       "Question 5                     object\n",
       "Questions 6                    object\n",
       "Question 7                     object\n",
       "Question 8                     object\n",
       "Question 9                     object\n",
       "Question 10                    object\n",
       "dtype: object"
      ]
     },
     "execution_count": 14,
     "metadata": {},
     "output_type": "execute_result"
    }
   ],
   "source": [
    "game.dtypes"
   ]
  },
  {
   "cell_type": "code",
   "execution_count": 15,
   "metadata": {},
   "outputs": [
    {
     "data": {
      "text/plain": [
       "(7, 13)"
      ]
     },
     "execution_count": 15,
     "metadata": {},
     "output_type": "execute_result"
    }
   ],
   "source": [
    "game.shape"
   ]
  },
  {
   "cell_type": "code",
   "execution_count": 16,
   "metadata": {},
   "outputs": [
    {
     "name": "stdout",
     "output_type": "stream",
     "text": [
      "<class 'pandas.core.frame.DataFrame'>\n",
      "RangeIndex: 7 entries, 0 to 6\n",
      "Data columns (total 13 columns):\n",
      "Timestamp                      7 non-null object\n",
      "General Info about yourself    4 non-null object\n",
      "Please select the gender       7 non-null object\n",
      "Question 1                     7 non-null object\n",
      "Question 2                     7 non-null object\n",
      "Question 3                     5 non-null object\n",
      "Question 4                     7 non-null object\n",
      "Question 5                     7 non-null object\n",
      "Questions 6                    7 non-null object\n",
      "Question 7                     7 non-null object\n",
      "Question 8                     7 non-null object\n",
      "Question 9                     7 non-null object\n",
      "Question 10                    7 non-null object\n",
      "dtypes: object(13)\n",
      "memory usage: 808.0+ bytes\n"
     ]
    }
   ],
   "source": [
    "game.info()"
   ]
  },
  {
   "cell_type": "code",
   "execution_count": 17,
   "metadata": {},
   "outputs": [],
   "source": [
    "game.columns = ['Timestamp','General info about yourself','Please select the gender','question1','question2','question3','question4','question5','question6','question7','question8','question9','question10']"
   ]
  },
  {
   "cell_type": "code",
   "execution_count": 18,
   "metadata": {},
   "outputs": [
    {
     "name": "stdout",
     "output_type": "stream",
     "text": [
      "Index(['Timestamp', 'General info about yourself', 'Please select the gender',\n",
      "       'question1', 'question2', 'question3', 'question4', 'question5',\n",
      "       'question6', 'question7', 'question8', 'question9', 'question10'],\n",
      "      dtype='object')\n"
     ]
    }
   ],
   "source": [
    "print(game.columns)"
   ]
  },
  {
   "cell_type": "code",
   "execution_count": 1,
   "metadata": {},
   "outputs": [
    {
     "ename": "NameError",
     "evalue": "name 'game' is not defined",
     "output_type": "error",
     "traceback": [
      "\u001b[0;31m---------------------------------------------------------------------------\u001b[0m",
      "\u001b[0;31mNameError\u001b[0m                                 Traceback (most recent call last)",
      "\u001b[0;32m<ipython-input-1-50ea08ee95d9>\u001b[0m in \u001b[0;36m<module>\u001b[0;34m()\u001b[0m\n\u001b[0;32m----> 1\u001b[0;31m \u001b[0mgame\u001b[0m\u001b[0;34m.\u001b[0m\u001b[0mdescribe\u001b[0m\u001b[0;34m(\u001b[0m\u001b[0;34m)\u001b[0m \u001b[0;31m#get -value counts?\u001b[0m\u001b[0;34m\u001b[0m\u001b[0;34m\u001b[0m\u001b[0m\n\u001b[0m",
      "\u001b[0;31mNameError\u001b[0m: name 'game' is not defined"
     ]
    }
   ],
   "source": [
    "game.describe() \n",
    "#get -value counts?"
   ]
  },
  {
   "cell_type": "code",
   "execution_count": 20,
   "metadata": {},
   "outputs": [],
   "source": [
    "game.drop(\"Timestamp\", axis=1, inplace=True)"
   ]
  },
  {
   "cell_type": "code",
   "execution_count": 21,
   "metadata": {},
   "outputs": [
    {
     "name": "stdout",
     "output_type": "stream",
     "text": [
      "  General info about yourself Please select the gender        question1  \\\n",
      "0                        Madi                     Male          Slither   \n",
      "1             Mihlali Nelana                      Male  Helicopter Game   \n",
      "2                 Nhla Gumede                     Male          Slither   \n",
      "3                         NaN                     Male  Helicopter Game   \n",
      "4               Bonga Gininda                     Male       Paperclips   \n",
      "5                         NaN                     Male       Paperclips   \n",
      "6                         NaN                     Male          Slither   \n",
      "\n",
      "  question2                    question3  question4 question5  \\\n",
      "0       Yes  There were no instructions.       Easy        No   \n",
      "1        No                           No  Difficult        No   \n",
      "2        No                           no       Easy  yes.  No   \n",
      "3       Yes            some of the games   Moderate        no   \n",
      "4        No                          NaN  Difficult        No   \n",
      "5        No                          NaN  Difficult       No    \n",
      "6        No                           no       Easy        no   \n",
      "\n",
      "             question6 question7                    question8  \\\n",
      "0  20 something points       Yes         Grasped it instantly   \n",
      "1                  120       Yes   Never grasped the controls   \n",
      "2              stage 1       Yes         Grasped it instantly   \n",
      "3                  357       Yes  2 - 4 minutes into the game   \n",
      "4       I couldnt tell       Yes   Never grasped the controls   \n",
      "5       I have no idea       Yes   Never grasped the controls   \n",
      "6        I didnt check       Yes  2 - 4 minutes into the game   \n",
      "\n",
      "                                     question9 question10  \n",
      "0                         Include instructions        Yes  \n",
      "1                          Slow down the pace          No  \n",
      "2         instructions before the game starts.         No  \n",
      "3                                     controls        Yes  \n",
      "4  Give out instructions on how the games work         No  \n",
      "5                              The entire game         No  \n",
      "6                          better instructions         No  \n"
     ]
    }
   ],
   "source": [
    "print(game)"
   ]
  },
  {
   "cell_type": "code",
   "execution_count": 22,
   "metadata": {},
   "outputs": [],
   "source": [
    "game.drop(\"General info about yourself\", axis=1, inplace=True)"
   ]
  },
  {
   "cell_type": "code",
   "execution_count": 23,
   "metadata": {},
   "outputs": [
    {
     "name": "stdout",
     "output_type": "stream",
     "text": [
      "  Please select the gender        question1 question2  \\\n",
      "0                     Male          Slither       Yes   \n",
      "1                     Male  Helicopter Game        No   \n",
      "2                     Male          Slither        No   \n",
      "3                     Male  Helicopter Game       Yes   \n",
      "4                     Male       Paperclips        No   \n",
      "5                     Male       Paperclips        No   \n",
      "6                     Male          Slither        No   \n",
      "\n",
      "                     question3  question4 question5            question6  \\\n",
      "0  There were no instructions.       Easy        No  20 something points   \n",
      "1                           No  Difficult        No                  120   \n",
      "2                           no       Easy  yes.  No              stage 1   \n",
      "3            some of the games   Moderate        no                  357   \n",
      "4                          NaN  Difficult        No       I couldnt tell   \n",
      "5                          NaN  Difficult       No        I have no idea   \n",
      "6                           no       Easy        no        I didnt check   \n",
      "\n",
      "  question7                    question8  \\\n",
      "0       Yes         Grasped it instantly   \n",
      "1       Yes   Never grasped the controls   \n",
      "2       Yes         Grasped it instantly   \n",
      "3       Yes  2 - 4 minutes into the game   \n",
      "4       Yes   Never grasped the controls   \n",
      "5       Yes   Never grasped the controls   \n",
      "6       Yes  2 - 4 minutes into the game   \n",
      "\n",
      "                                     question9 question10  \n",
      "0                         Include instructions        Yes  \n",
      "1                          Slow down the pace          No  \n",
      "2         instructions before the game starts.         No  \n",
      "3                                     controls        Yes  \n",
      "4  Give out instructions on how the games work         No  \n",
      "5                              The entire game         No  \n",
      "6                          better instructions         No  \n"
     ]
    }
   ],
   "source": [
    "print(game)"
   ]
  },
  {
   "cell_type": "code",
   "execution_count": 24,
   "metadata": {},
   "outputs": [],
   "source": [
    "game.drop(\"Please select the gender\", axis=1, inplace=True)"
   ]
  },
  {
   "cell_type": "code",
   "execution_count": 25,
   "metadata": {},
   "outputs": [
    {
     "name": "stdout",
     "output_type": "stream",
     "text": [
      "         question1 question2                    question3  question4  \\\n",
      "0          Slither       Yes  There were no instructions.       Easy   \n",
      "1  Helicopter Game        No                           No  Difficult   \n",
      "2          Slither        No                           no       Easy   \n",
      "3  Helicopter Game       Yes            some of the games   Moderate   \n",
      "4       Paperclips        No                          NaN  Difficult   \n",
      "5       Paperclips        No                          NaN  Difficult   \n",
      "6          Slither        No                           no       Easy   \n",
      "\n",
      "  question5            question6 question7                    question8  \\\n",
      "0        No  20 something points       Yes         Grasped it instantly   \n",
      "1        No                  120       Yes   Never grasped the controls   \n",
      "2  yes.  No              stage 1       Yes         Grasped it instantly   \n",
      "3        no                  357       Yes  2 - 4 minutes into the game   \n",
      "4        No       I couldnt tell       Yes   Never grasped the controls   \n",
      "5       No        I have no idea       Yes   Never grasped the controls   \n",
      "6        no        I didnt check       Yes  2 - 4 minutes into the game   \n",
      "\n",
      "                                     question9 question10  \n",
      "0                         Include instructions        Yes  \n",
      "1                          Slow down the pace          No  \n",
      "2         instructions before the game starts.         No  \n",
      "3                                     controls        Yes  \n",
      "4  Give out instructions on how the games work         No  \n",
      "5                              The entire game         No  \n",
      "6                          better instructions         No  \n"
     ]
    }
   ],
   "source": [
    "print(game)"
   ]
  },
  {
   "cell_type": "code",
   "execution_count": 26,
   "metadata": {},
   "outputs": [],
   "source": [
    "game.drop(\"question3\", axis=1, inplace=True)"
   ]
  },
  {
   "cell_type": "code",
   "execution_count": 27,
   "metadata": {},
   "outputs": [
    {
     "name": "stdout",
     "output_type": "stream",
     "text": [
      "         question1 question2  question4 question5            question6  \\\n",
      "0          Slither       Yes       Easy        No  20 something points   \n",
      "1  Helicopter Game        No  Difficult        No                  120   \n",
      "2          Slither        No       Easy  yes.  No              stage 1   \n",
      "3  Helicopter Game       Yes   Moderate        no                  357   \n",
      "4       Paperclips        No  Difficult        No       I couldnt tell   \n",
      "5       Paperclips        No  Difficult       No        I have no idea   \n",
      "6          Slither        No       Easy        no        I didnt check   \n",
      "\n",
      "  question7                    question8  \\\n",
      "0       Yes         Grasped it instantly   \n",
      "1       Yes   Never grasped the controls   \n",
      "2       Yes         Grasped it instantly   \n",
      "3       Yes  2 - 4 minutes into the game   \n",
      "4       Yes   Never grasped the controls   \n",
      "5       Yes   Never grasped the controls   \n",
      "6       Yes  2 - 4 minutes into the game   \n",
      "\n",
      "                                     question9 question10  \n",
      "0                         Include instructions        Yes  \n",
      "1                          Slow down the pace          No  \n",
      "2         instructions before the game starts.         No  \n",
      "3                                     controls        Yes  \n",
      "4  Give out instructions on how the games work         No  \n",
      "5                              The entire game         No  \n",
      "6                          better instructions         No  \n"
     ]
    }
   ],
   "source": [
    "print(game)"
   ]
  },
  {
   "cell_type": "code",
   "execution_count": 28,
   "metadata": {},
   "outputs": [],
   "source": [
    "game.drop(\"question6\", axis=1, inplace=True)"
   ]
  },
  {
   "cell_type": "code",
   "execution_count": 29,
   "metadata": {},
   "outputs": [
    {
     "name": "stdout",
     "output_type": "stream",
     "text": [
      "         question1 question2  question4 question5 question7  \\\n",
      "0          Slither       Yes       Easy        No       Yes   \n",
      "1  Helicopter Game        No  Difficult        No       Yes   \n",
      "2          Slither        No       Easy  yes.  No       Yes   \n",
      "3  Helicopter Game       Yes   Moderate        no       Yes   \n",
      "4       Paperclips        No  Difficult        No       Yes   \n",
      "5       Paperclips        No  Difficult       No        Yes   \n",
      "6          Slither        No       Easy        no       Yes   \n",
      "\n",
      "                     question8                                    question9  \\\n",
      "0         Grasped it instantly                         Include instructions   \n",
      "1   Never grasped the controls                          Slow down the pace    \n",
      "2         Grasped it instantly         instructions before the game starts.   \n",
      "3  2 - 4 minutes into the game                                     controls   \n",
      "4   Never grasped the controls  Give out instructions on how the games work   \n",
      "5   Never grasped the controls                              The entire game   \n",
      "6  2 - 4 minutes into the game                          better instructions   \n",
      "\n",
      "  question10  \n",
      "0        Yes  \n",
      "1         No  \n",
      "2         No  \n",
      "3        Yes  \n",
      "4         No  \n",
      "5         No  \n",
      "6         No  \n"
     ]
    }
   ],
   "source": [
    "print(game)"
   ]
  },
  {
   "cell_type": "code",
   "execution_count": 30,
   "metadata": {},
   "outputs": [
    {
     "data": {
      "text/html": [
       "<div>\n",
       "<style scoped>\n",
       "    .dataframe tbody tr th:only-of-type {\n",
       "        vertical-align: middle;\n",
       "    }\n",
       "\n",
       "    .dataframe tbody tr th {\n",
       "        vertical-align: top;\n",
       "    }\n",
       "\n",
       "    .dataframe thead th {\n",
       "        text-align: right;\n",
       "    }\n",
       "</style>\n",
       "<table border=\"1\" class=\"dataframe\">\n",
       "  <thead>\n",
       "    <tr style=\"text-align: right;\">\n",
       "      <th></th>\n",
       "      <th>question1</th>\n",
       "      <th>question2</th>\n",
       "      <th>question4</th>\n",
       "      <th>question5</th>\n",
       "      <th>question7</th>\n",
       "      <th>question8</th>\n",
       "      <th>question9</th>\n",
       "      <th>question10</th>\n",
       "    </tr>\n",
       "  </thead>\n",
       "  <tbody>\n",
       "    <tr>\n",
       "      <th>0</th>\n",
       "      <td>Slither</td>\n",
       "      <td>Yes</td>\n",
       "      <td>Easy</td>\n",
       "      <td>No</td>\n",
       "      <td>Yes</td>\n",
       "      <td>Grasped it instantly</td>\n",
       "      <td>Include instructions</td>\n",
       "      <td>Yes</td>\n",
       "    </tr>\n",
       "    <tr>\n",
       "      <th>1</th>\n",
       "      <td>Helicopter Game</td>\n",
       "      <td>No</td>\n",
       "      <td>Difficult</td>\n",
       "      <td>No</td>\n",
       "      <td>Yes</td>\n",
       "      <td>Never grasped the controls</td>\n",
       "      <td>Slow down the pace</td>\n",
       "      <td>No</td>\n",
       "    </tr>\n",
       "    <tr>\n",
       "      <th>2</th>\n",
       "      <td>Slither</td>\n",
       "      <td>No</td>\n",
       "      <td>Easy</td>\n",
       "      <td>yes.  No</td>\n",
       "      <td>Yes</td>\n",
       "      <td>Grasped it instantly</td>\n",
       "      <td>instructions before the game starts.</td>\n",
       "      <td>No</td>\n",
       "    </tr>\n",
       "    <tr>\n",
       "      <th>3</th>\n",
       "      <td>Helicopter Game</td>\n",
       "      <td>Yes</td>\n",
       "      <td>Moderate</td>\n",
       "      <td>no</td>\n",
       "      <td>Yes</td>\n",
       "      <td>2 - 4 minutes into the game</td>\n",
       "      <td>controls</td>\n",
       "      <td>Yes</td>\n",
       "    </tr>\n",
       "    <tr>\n",
       "      <th>4</th>\n",
       "      <td>Paperclips</td>\n",
       "      <td>No</td>\n",
       "      <td>Difficult</td>\n",
       "      <td>No</td>\n",
       "      <td>Yes</td>\n",
       "      <td>Never grasped the controls</td>\n",
       "      <td>Give out instructions on how the games work</td>\n",
       "      <td>No</td>\n",
       "    </tr>\n",
       "    <tr>\n",
       "      <th>5</th>\n",
       "      <td>Paperclips</td>\n",
       "      <td>No</td>\n",
       "      <td>Difficult</td>\n",
       "      <td>No</td>\n",
       "      <td>Yes</td>\n",
       "      <td>Never grasped the controls</td>\n",
       "      <td>The entire game</td>\n",
       "      <td>No</td>\n",
       "    </tr>\n",
       "    <tr>\n",
       "      <th>6</th>\n",
       "      <td>Slither</td>\n",
       "      <td>No</td>\n",
       "      <td>Easy</td>\n",
       "      <td>no</td>\n",
       "      <td>Yes</td>\n",
       "      <td>2 - 4 minutes into the game</td>\n",
       "      <td>better instructions</td>\n",
       "      <td>No</td>\n",
       "    </tr>\n",
       "  </tbody>\n",
       "</table>\n",
       "</div>"
      ],
      "text/plain": [
       "         question1 question2  question4 question5 question7  \\\n",
       "0          Slither       Yes       Easy        No       Yes   \n",
       "1  Helicopter Game        No  Difficult        No       Yes   \n",
       "2          Slither        No       Easy  yes.  No       Yes   \n",
       "3  Helicopter Game       Yes   Moderate        no       Yes   \n",
       "4       Paperclips        No  Difficult        No       Yes   \n",
       "5       Paperclips        No  Difficult       No        Yes   \n",
       "6          Slither        No       Easy        no       Yes   \n",
       "\n",
       "                     question8                                    question9  \\\n",
       "0         Grasped it instantly                         Include instructions   \n",
       "1   Never grasped the controls                          Slow down the pace    \n",
       "2         Grasped it instantly         instructions before the game starts.   \n",
       "3  2 - 4 minutes into the game                                     controls   \n",
       "4   Never grasped the controls  Give out instructions on how the games work   \n",
       "5   Never grasped the controls                              The entire game   \n",
       "6  2 - 4 minutes into the game                          better instructions   \n",
       "\n",
       "  question10  \n",
       "0        Yes  \n",
       "1         No  \n",
       "2         No  \n",
       "3        Yes  \n",
       "4         No  \n",
       "5         No  \n",
       "6         No  "
      ]
     },
     "execution_count": 30,
     "metadata": {},
     "output_type": "execute_result"
    }
   ],
   "source": [
    "game.head(7)"
   ]
  },
  {
   "cell_type": "code",
   "execution_count": 31,
   "metadata": {},
   "outputs": [],
   "source": [
    "# Removing rows 5 and 6\n",
    "# axis=0 is the default\n",
    "rows = [5, 6]\n",
    "game.drop(rows, axis=0, inplace=True)"
   ]
  },
  {
   "cell_type": "code",
   "execution_count": 32,
   "metadata": {},
   "outputs": [
    {
     "data": {
      "text/html": [
       "<div>\n",
       "<style scoped>\n",
       "    .dataframe tbody tr th:only-of-type {\n",
       "        vertical-align: middle;\n",
       "    }\n",
       "\n",
       "    .dataframe tbody tr th {\n",
       "        vertical-align: top;\n",
       "    }\n",
       "\n",
       "    .dataframe thead th {\n",
       "        text-align: right;\n",
       "    }\n",
       "</style>\n",
       "<table border=\"1\" class=\"dataframe\">\n",
       "  <thead>\n",
       "    <tr style=\"text-align: right;\">\n",
       "      <th></th>\n",
       "      <th>question1</th>\n",
       "      <th>question2</th>\n",
       "      <th>question4</th>\n",
       "      <th>question5</th>\n",
       "      <th>question7</th>\n",
       "      <th>question8</th>\n",
       "      <th>question9</th>\n",
       "      <th>question10</th>\n",
       "    </tr>\n",
       "  </thead>\n",
       "  <tbody>\n",
       "    <tr>\n",
       "      <th>0</th>\n",
       "      <td>Slither</td>\n",
       "      <td>Yes</td>\n",
       "      <td>Easy</td>\n",
       "      <td>No</td>\n",
       "      <td>Yes</td>\n",
       "      <td>Grasped it instantly</td>\n",
       "      <td>Include instructions</td>\n",
       "      <td>Yes</td>\n",
       "    </tr>\n",
       "    <tr>\n",
       "      <th>1</th>\n",
       "      <td>Helicopter Game</td>\n",
       "      <td>No</td>\n",
       "      <td>Difficult</td>\n",
       "      <td>No</td>\n",
       "      <td>Yes</td>\n",
       "      <td>Never grasped the controls</td>\n",
       "      <td>Slow down the pace</td>\n",
       "      <td>No</td>\n",
       "    </tr>\n",
       "    <tr>\n",
       "      <th>2</th>\n",
       "      <td>Slither</td>\n",
       "      <td>No</td>\n",
       "      <td>Easy</td>\n",
       "      <td>yes.  No</td>\n",
       "      <td>Yes</td>\n",
       "      <td>Grasped it instantly</td>\n",
       "      <td>instructions before the game starts.</td>\n",
       "      <td>No</td>\n",
       "    </tr>\n",
       "    <tr>\n",
       "      <th>3</th>\n",
       "      <td>Helicopter Game</td>\n",
       "      <td>Yes</td>\n",
       "      <td>Moderate</td>\n",
       "      <td>no</td>\n",
       "      <td>Yes</td>\n",
       "      <td>2 - 4 minutes into the game</td>\n",
       "      <td>controls</td>\n",
       "      <td>Yes</td>\n",
       "    </tr>\n",
       "    <tr>\n",
       "      <th>4</th>\n",
       "      <td>Paperclips</td>\n",
       "      <td>No</td>\n",
       "      <td>Difficult</td>\n",
       "      <td>No</td>\n",
       "      <td>Yes</td>\n",
       "      <td>Never grasped the controls</td>\n",
       "      <td>Give out instructions on how the games work</td>\n",
       "      <td>No</td>\n",
       "    </tr>\n",
       "  </tbody>\n",
       "</table>\n",
       "</div>"
      ],
      "text/plain": [
       "         question1 question2  question4 question5 question7  \\\n",
       "0          Slither       Yes       Easy        No       Yes   \n",
       "1  Helicopter Game        No  Difficult        No       Yes   \n",
       "2          Slither        No       Easy  yes.  No       Yes   \n",
       "3  Helicopter Game       Yes   Moderate        no       Yes   \n",
       "4       Paperclips        No  Difficult        No       Yes   \n",
       "\n",
       "                     question8                                    question9  \\\n",
       "0         Grasped it instantly                         Include instructions   \n",
       "1   Never grasped the controls                          Slow down the pace    \n",
       "2         Grasped it instantly         instructions before the game starts.   \n",
       "3  2 - 4 minutes into the game                                     controls   \n",
       "4   Never grasped the controls  Give out instructions on how the games work   \n",
       "\n",
       "  question10  \n",
       "0        Yes  \n",
       "1         No  \n",
       "2         No  \n",
       "3        Yes  \n",
       "4         No  "
      ]
     },
     "execution_count": 32,
     "metadata": {},
     "output_type": "execute_result"
    }
   ],
   "source": [
    "game.head(7)"
   ]
  },
  {
   "cell_type": "markdown",
   "metadata": {},
   "source": [
    "#Data Visualisation using donut graohs to plot\n",
    "\n"
   ]
  },
  {
   "cell_type": "code",
   "execution_count": 34,
   "metadata": {},
   "outputs": [
    {
     "data": {
      "image/png": "[encoded data removed]",
      "text/plain": [
       "<Figure size 432x288 with 1 Axes>"
      ]
     },
     "metadata": {},
     "output_type": "display_data"
    }
   ],
   "source": [
    "# Data\n",
    "question1='Slither','Helicopter Game', 'Paperclips',\n",
    "size=[2,2,1]\n",
    " \n",
    "# create a figure and set different background\n",
    "fig = plt.figure()\n",
    "fig.patch.set_facecolor('black')\n",
    " \n",
    "# Change color of text\n",
    "plt.rcParams['text.color'] = 'white'\n",
    " \n",
    "# Create a circle for the center of the plot\n",
    "my_circle=plt.Circle( (0,0), 0.7, color='black')\n",
    " \n",
    "# Pieplot + circle on it\n",
    "plt.pie(size, labels=question1)\n",
    "p=plt.gcf()\n",
    "p.gca().add_artist(my_circle)\n",
    "plt.show()\n",
    "\n"
   ]
  },
  {
   "cell_type": "code",
   "execution_count": 35,
   "metadata": {},
   "outputs": [
    {
     "data": {
      "image/png": "[encoded data removed]",
      "text/plain": [
       "<Figure size 432x288 with 1 Axes>"
      ]
     },
     "metadata": {},
     "output_type": "display_data"
    }
   ],
   "source": [
    "# Data\n",
    "question2='Yes','No',\n",
    "size=[2,3]\n",
    " \n",
    "# create a figure and set different background\n",
    "fig = plt.figure()\n",
    "fig.patch.set_facecolor('black')\n",
    " \n",
    "# Change color of text\n",
    "plt.rcParams['text.color'] = 'white'\n",
    " \n",
    "# Create a circle for the center of the plot\n",
    "my_circle=plt.Circle( (0,0), 0.7, color='black')\n",
    " \n",
    "# Pieplot + circle on it\n",
    "plt.pie(size, labels=question2)\n",
    "p=plt.gcf()\n",
    "p.gca().add_artist(my_circle)\n",
    "plt.show()\n",
    "\n"
   ]
  },
  {
   "cell_type": "code",
   "execution_count": 37,
   "metadata": {},
   "outputs": [
    {
     "data": {
      "image/png": "[encoded data removed]",
      "text/plain": [
       "<Figure size 432x288 with 1 Axes>"
      ]
     },
     "metadata": {},
     "output_type": "display_data"
    }
   ],
   "source": [
    "# Data\n",
    "question4='Easy','Moderate','Difficult',\n",
    "size=[2,1,2]\n",
    " \n",
    "# create a figure and set different background\n",
    "fig = plt.figure()\n",
    "fig.patch.set_facecolor('black')\n",
    " \n",
    "# Change color of text\n",
    "plt.rcParams['text.color'] = 'white'\n",
    " \n",
    "# Create a circle for the center of the plot\n",
    "my_circle=plt.Circle( (0,0), 0.7, color='black')\n",
    " \n",
    "# Pieplot + circle on it\n",
    "plt.pie(size, labels=question4)\n",
    "p=plt.gcf()\n",
    "p.gca().add_artist(my_circle)\n",
    "plt.show()\n"
   ]
  },
  {
   "cell_type": "code",
   "execution_count": 42,
   "metadata": {},
   "outputs": [
    {
     "data": {
      "image/png": "[encoded data removed]",
      "text/plain": [
       "<Figure size 432x288 with 1 Axes>"
      ]
     },
     "metadata": {},
     "output_type": "display_data"
    }
   ],
   "source": [
    "# Data\n",
    "question5='Yes','No','Yes-No',\n",
    "size=[0,4,1]\n",
    " \n",
    "# create a figure and set different background\n",
    "fig = plt.figure()\n",
    "fig.patch.set_facecolor('black')\n",
    " \n",
    "# Change color of text\n",
    "plt.rcParams['text.color'] = 'white'\n",
    " \n",
    "# Create a circle for the center of the plot\n",
    "my_circle=plt.Circle( (0,0), 0.7, color='black')\n",
    " \n",
    "# Pieplot + circle on it\n",
    "plt.pie(size, labels=question5)\n",
    "p=plt.gcf()\n",
    "p.gca().add_artist(my_circle)\n",
    "plt.show()\n"
   ]
  },
  {
   "cell_type": "code",
   "execution_count": 41,
   "metadata": {},
   "outputs": [
    {
     "data": {
      "image/png": "[encoded data removed]",
      "text/plain": [
       "<Figure size 432x288 with 1 Axes>"
      ]
     },
     "metadata": {},
     "output_type": "display_data"
    }
   ],
   "source": [
    "# Data\n",
    "question7='Yes','No',\n",
    "size=[5,0]\n",
    " \n",
    "# create a figure and set different background\n",
    "fig = plt.figure()\n",
    "fig.patch.set_facecolor('black')\n",
    " \n",
    "# Change color of text\n",
    "plt.rcParams['text.color'] = 'white'\n",
    " \n",
    "# Create a circle for the center of the plot\n",
    "my_circle=plt.Circle( (0,0), 0.7, color='black')\n",
    " \n",
    "# Pieplot + circle on it\n",
    "plt.pie(size, labels=question7)\n",
    "p=plt.gcf()\n",
    "p.gca().add_artist(my_circle)\n",
    "plt.show()\n"
   ]
  },
  {
   "cell_type": "code",
   "execution_count": 43,
   "metadata": {},
   "outputs": [
    {
     "data": {
      "image/png": "[encoded data removed]",
      "text/plain": [
       "<Figure size 432x288 with 1 Axes>"
      ]
     },
     "metadata": {},
     "output_type": "display_data"
    }
   ],
   "source": [
    "# Data\n",
    "question8='Grasped it instantly','2 - 4 minutes into the game','Never grasped the controls',\n",
    "size=[2,1,2]\n",
    " \n",
    "# create a figure and set different background\n",
    "fig = plt.figure()\n",
    "fig.patch.set_facecolor('black')\n",
    " \n",
    "# Change color of text\n",
    "plt.rcParams['text.color'] = 'white'\n",
    " \n",
    "# Create a circle for the center of the plot\n",
    "my_circle=plt.Circle( (0,0), 0.7, color='black')\n",
    " \n",
    "# Pieplot + circle on it\n",
    "plt.pie(size, labels=question8)\n",
    "p=plt.gcf()\n",
    "p.gca().add_artist(my_circle)\n",
    "plt.show()\n"
   ]
  },
  {
   "cell_type": "code",
   "execution_count": 44,
   "metadata": {},
   "outputs": [
    {
     "data": {
      "image/png": "[encoded data removed]",
      "text/plain": [
       "<Figure size 432x288 with 1 Axes>"
      ]
     },
     "metadata": {},
     "output_type": "display_data"
    }
   ],
   "source": [
    "# Data\n",
    "question9='Instructions','Slow down the pace','controls',\n",
    "size=[3,1,1]\n",
    " \n",
    "# create a figure and set different background\n",
    "fig = plt.figure()\n",
    "fig.patch.set_facecolor('black')\n",
    " \n",
    "# Change color of text\n",
    "plt.rcParams['text.color'] = 'white'\n",
    " \n",
    "# Create a circle for the center of the plot\n",
    "my_circle=plt.Circle( (0,0), 0.7, color='black')\n",
    " \n",
    "# Pieplot + circle on it\n",
    "plt.pie(size, labels=question9)\n",
    "p=plt.gcf()\n",
    "p.gca().add_artist(my_circle)\n",
    "plt.show()\n"
   ]
  },
  {
   "cell_type": "code",
   "execution_count": 45,
   "metadata": {},
   "outputs": [
    {
     "data": {
      "image/png": "[encoded data removed]",
      "text/plain": [
       "<Figure size 432x288 with 1 Axes>"
      ]
     },
     "metadata": {},
     "output_type": "display_data"
    }
   ],
   "source": [
    "# Data\n",
    "question10='Yes','No',\n",
    "size=[2,3]\n",
    " \n",
    "# create a figure and set different background\n",
    "fig = plt.figure()\n",
    "fig.patch.set_facecolor('black')\n",
    " \n",
    "# Change color of text\n",
    "plt.rcParams['text.color'] = 'white'\n",
    " \n",
    "# Create a circle for the center of the plot\n",
    "my_circle=plt.Circle( (0,0), 0.7, color='black')\n",
    " \n",
    "# Pieplot + circle on it\n",
    "plt.pie(size, labels=question10)\n",
    "p=plt.gcf()\n",
    "p.gca().add_artist(my_circle)\n",
    "plt.show()\n"
   ]
  },
  {
   "cell_type": "code",
   "execution_count": null,
   "metadata": {},
   "outputs": [],
   "source": []
  }
 ],
 "metadata": {
  "kernelspec": {
   "display_name": "Python 3",
   "language": "python",
   "name": "python3"
  },
  "language_info": {
   "codemirror_mode": {
    "name": "ipython",
    "version": 3
   },
   "file_extension": ".py",
   "mimetype": "text/x-python",
   "name": "python",
   "nbconvert_exporter": "python",
   "pygments_lexer": "ipython3",
   "version": "3.6.7"
  }
 },
 "nbformat": 4,
 "nbformat_minor": 2
}
